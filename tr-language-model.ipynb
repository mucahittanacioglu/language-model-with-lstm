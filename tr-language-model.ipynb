{
 "cells": [
  {
   "cell_type": "markdown",
   "metadata": {},
   "source": [
    "## Preprocess"
   ]
  },
  {
   "cell_type": "code",
   "execution_count": 1,
   "metadata": {},
   "outputs": [],
   "source": [
    "file = open(\"./data/mevlana.txt\",\"r\",encoding=\"utf-8\")\n",
    "data=file.read()"
   ]
  },
  {
   "cell_type": "code",
   "execution_count": 2,
   "metadata": {},
   "outputs": [],
   "source": [
    "# considering punctuations as word\n",
    "import string\n",
    "punct = \".,!?/’:\\\";\\-–“”'\"\n",
    "data = data.lower()\n",
    "data = data.replace(\"\\n\",\" \")\n",
    "tmp = \"\"\n",
    "\n",
    "for i in data:\n",
    "    if i.isalpha() or i == \" \":\n",
    "        tmp = tmp+i\n",
    "    elif i in punct:\n",
    "        tmp = tmp+\" \"+i+\" \"\n",
    "data = tmp"
   ]
  },
  {
   "cell_type": "code",
   "execution_count": 3,
   "metadata": {},
   "outputs": [],
   "source": [
    "max_features = 50000  # Number of words \n",
    "n_word = 5 # Number of word as input to model\n",
    "embedding_dim = 300 # Embedding vector dimension"
   ]
  },
  {
   "cell_type": "markdown",
   "metadata": {},
   "source": [
    "## Tokenization"
   ]
  },
  {
   "cell_type": "code",
   "execution_count": 4,
   "metadata": {},
   "outputs": [],
   "source": [
    "from keras.preprocessing.text import Tokenizer\n",
    "tokenizer = Tokenizer(num_words=max_features,lower=False,filters=\"\")"
   ]
  },
  {
   "cell_type": "code",
   "execution_count": 5,
   "metadata": {},
   "outputs": [],
   "source": [
    "tokenizer.fit_on_texts([data])"
   ]
  },
  {
   "cell_type": "code",
   "execution_count": 6,
   "metadata": {},
   "outputs": [],
   "source": [
    "data_encoded = tokenizer.texts_to_sequences([data])[0]"
   ]
  },
  {
   "cell_type": "code",
   "execution_count": 7,
   "metadata": {},
   "outputs": [
    {
     "name": "stdout",
     "output_type": "stream",
     "text": [
      "Vocabluary size: 28960\n"
     ]
    }
   ],
   "source": [
    "vocab_size = len(tokenizer.word_index)+1\n",
    "print(f\"Vocabluary size: {vocab_size}\")"
   ]
  },
  {
   "cell_type": "markdown",
   "metadata": {},
   "source": [
    "## Model Input&Output"
   ]
  },
  {
   "cell_type": "code",
   "execution_count": 8,
   "metadata": {},
   "outputs": [],
   "source": [
    "X = []\n",
    "y = []\n",
    "for i in range(n_word, len(data_encoded)):\n",
    "    X.append(data_encoded[i-n_word:i])\n",
    "    y.append(data_encoded[i])"
   ]
  },
  {
   "cell_type": "code",
   "execution_count": 9,
   "metadata": {},
   "outputs": [],
   "source": [
    "import numpy as np\n",
    "from keras.utils import to_categorical\n",
    "X = np.array(X)\n",
    "y = to_categorical(y, num_classes=vocab_size)"
   ]
  },
  {
   "cell_type": "markdown",
   "metadata": {},
   "source": [
    "## Embedding"
   ]
  },
  {
   "cell_type": "code",
   "execution_count": 10,
   "metadata": {},
   "outputs": [],
   "source": [
    "# pretrained Turkish-GloVe embedding\n",
    "# source https://github.com/inzva/Turkish-GloVe\n",
    "embedding = open(\"embeddings/vectors.txt\",encoding=\"utf-8\")"
   ]
  },
  {
   "cell_type": "code",
   "execution_count": 11,
   "metadata": {},
   "outputs": [],
   "source": [
    "#Creating embedding dictionary\n",
    "embedding_dict= {}\n",
    "for i in embedding:\n",
    "    line = i.split(' ')\n",
    "    line[-1]=line[-1].replace('\\n','')\n",
    "    embedding_dict[''+line[0]]=line[1:]"
   ]
  },
  {
   "cell_type": "code",
   "execution_count": 12,
   "metadata": {},
   "outputs": [
    {
     "data": {
      "text/plain": [
       "253832"
      ]
     },
     "execution_count": 12,
     "metadata": {},
     "output_type": "execute_result"
    }
   ],
   "source": [
    "len(embedding_dict)"
   ]
  },
  {
   "cell_type": "code",
   "execution_count": 13,
   "metadata": {},
   "outputs": [],
   "source": [
    "keys = embedding_dict.keys()\n",
    "unk_token = np.zeros(300,)\n",
    "#Using unk_token(average of all vetors) for the words not in embedding ectors\n",
    "for i in keys:\n",
    "    unk_token = unk_token + np.array(embedding_dict[i],float)\n",
    "unk_token = unk_token / len(keys)"
   ]
  },
  {
   "cell_type": "code",
   "execution_count": 14,
   "metadata": {},
   "outputs": [],
   "source": [
    "# creating embedding matrix\n",
    "counter = 0\n",
    "unk_words = []\n",
    "embedding_matrix = np.zeros((vocab_size, 300))\n",
    "embedding_matrix[0] = np.zeros(300,)\n",
    "for word, i in tokenizer.word_index.items():\n",
    "    if i == vocab_size:\n",
    "        break\n",
    "    embedding_vector = embedding_dict.get(word)\n",
    "    if embedding_vector is  None:\n",
    "        #words not in embedding considered unk token\n",
    "        embedding_vector = unk_token.tolist()\n",
    "        counter = counter + 1\n",
    "        unk_words.append(word)\n",
    "    embedding_matrix[i] = embedding_vector"
   ]
  },
  {
   "cell_type": "code",
   "execution_count": 15,
   "metadata": {},
   "outputs": [
    {
     "data": {
      "text/plain": [
       "(28960, 300)"
      ]
     },
     "execution_count": 15,
     "metadata": {},
     "output_type": "execute_result"
    }
   ],
   "source": [
    "embedding_matrix.shape"
   ]
  },
  {
   "cell_type": "code",
   "execution_count": 16,
   "metadata": {},
   "outputs": [
    {
     "name": "stdout",
     "output_type": "stream",
     "text": [
      "Number of unk token usage: 7899\n"
     ]
    }
   ],
   "source": [
    "print(f\"Number of unk token usage: {counter}\")"
   ]
  },
  {
   "cell_type": "code",
   "execution_count": 17,
   "metadata": {},
   "outputs": [
    {
     "data": {
      "text/plain": [
       "['’',\n",
       " '“',\n",
       " '”',\n",
       " 'mecâlis',\n",
       " 'ıssı',\n",
       " '–',\n",
       " 'fîh',\n",
       " 'duacının',\n",
       " 'husâmeddin',\n",
       " 'barsîsa']"
      ]
     },
     "execution_count": 17,
     "metadata": {},
     "output_type": "execute_result"
    }
   ],
   "source": [
    "unk_words[:10]"
   ]
  },
  {
   "cell_type": "markdown",
   "metadata": {},
   "source": [
    "## Model"
   ]
  },
  {
   "cell_type": "code",
   "execution_count": 18,
   "metadata": {},
   "outputs": [
    {
     "name": "stdout",
     "output_type": "stream",
     "text": [
      "Model: \"sequential\"\n",
      "_________________________________________________________________\n",
      "Layer (type)                 Output Shape              Param #   \n",
      "=================================================================\n",
      "embedding (Embedding)        (None, 5, 300)            8688000   \n",
      "_________________________________________________________________\n",
      "lstm (LSTM)                  (None, 5, 128)            219648    \n",
      "_________________________________________________________________\n",
      "lstm_1 (LSTM)                (None, 5, 128)            131584    \n",
      "_________________________________________________________________\n",
      "dense (Dense)                (None, 5, 256)            33024     \n",
      "_________________________________________________________________\n",
      "dense_1 (Dense)              (None, 5, 128)            32896     \n",
      "_________________________________________________________________\n",
      "flatten (Flatten)            (None, 640)               0         \n",
      "_________________________________________________________________\n",
      "dense_2 (Dense)              (None, 28960)             18563360  \n",
      "=================================================================\n",
      "Total params: 27,668,512\n",
      "Trainable params: 18,980,512\n",
      "Non-trainable params: 8,688,000\n",
      "_________________________________________________________________\n"
     ]
    }
   ],
   "source": [
    "from keras.models import Sequential\n",
    "from keras.layers import LSTM,RNN,Dense,Embedding,Input,Flatten\n",
    "model = Sequential()\n",
    "model.add(Input(shape=(5,)))\n",
    "model.add(Embedding(input_dim = vocab_size , weights =[embedding_matrix], output_dim = embedding_dim, input_length = n_word, trainable=False))\n",
    "model.add(LSTM(128,return_sequences = True))\n",
    "model.add(LSTM(128,return_sequences = True))\n",
    "model.add(Dense(256,activation = \"relu\"))\n",
    "model.add(Dense(128,activation = \"relu\"))\n",
    "model.add(Flatten())\n",
    "model.add(Dense(vocab_size, activation=\"softmax\"))\n",
    "model.summary()"
   ]
  },
  {
   "cell_type": "markdown",
   "metadata": {},
   "source": [
    "# Compile&Train"
   ]
  },
  {
   "cell_type": "code",
   "execution_count": 19,
   "metadata": {},
   "outputs": [],
   "source": [
    "# call back for stop training at certein accuracy threshold\n",
    "from keras.callbacks import Callback\n",
    "class My_Callback(Callback):\n",
    "    def __init__(self, threshold):\n",
    "        super(My_Callback, self).__init__()\n",
    "        self.threshold = threshold\n",
    "\n",
    "    def on_epoch_end(self, epoch, logs=None): \n",
    "        acc = logs[\"categorical_accuracy\"]\n",
    "        if acc >= self.threshold:\n",
    "            print(f\"Accuracy reach over {self.threshold}% terminating train process.\")\n",
    "            self.model.stop_training = True"
   ]
  },
  {
   "cell_type": "code",
   "execution_count": 23,
   "metadata": {},
   "outputs": [
    {
     "name": "stdout",
     "output_type": "stream",
     "text": [
      "Epoch 1/500\n",
      "43/43 [==============================] - 41s 801ms/step - loss: 9.2970 - categorical_accuracy: 0.0438\n",
      "Epoch 2/500\n",
      "43/43 [==============================] - 28s 647ms/step - loss: 7.6196 - categorical_accuracy: 0.0871\n",
      "Epoch 3/500\n",
      "43/43 [==============================] - 25s 587ms/step - loss: 7.5447 - categorical_accuracy: 0.0876\n",
      "Epoch 4/500\n",
      "43/43 [==============================] - 25s 579ms/step - loss: 7.4958 - categorical_accuracy: 0.0870\n",
      "Epoch 5/500\n",
      "43/43 [==============================] - 25s 584ms/step - loss: 7.3555 - categorical_accuracy: 0.0891\n",
      "Epoch 6/500\n",
      "43/43 [==============================] - 25s 589ms/step - loss: 7.1404 - categorical_accuracy: 0.0924\n",
      "Epoch 7/500\n",
      "43/43 [==============================] - 25s 588ms/step - loss: 6.8720 - categorical_accuracy: 0.1007\n",
      "Epoch 8/500\n",
      "43/43 [==============================] - 25s 589ms/step - loss: 6.5869 - categorical_accuracy: 0.1098\n",
      "Epoch 9/500\n",
      "43/43 [==============================] - 25s 590ms/step - loss: 6.3331 - categorical_accuracy: 0.1173\n",
      "Epoch 10/500\n",
      "43/43 [==============================] - 25s 593ms/step - loss: 6.0338 - categorical_accuracy: 0.1257\n",
      "Epoch 11/500\n",
      "43/43 [==============================] - 26s 595ms/step - loss: 5.7113 - categorical_accuracy: 0.1344\n",
      "Epoch 12/500\n",
      "43/43 [==============================] - 26s 599ms/step - loss: 5.3973 - categorical_accuracy: 0.1504\n",
      "Epoch 13/500\n",
      "43/43 [==============================] - 26s 598ms/step - loss: 5.0683 - categorical_accuracy: 0.1816\n",
      "Epoch 14/500\n",
      "43/43 [==============================] - 26s 601ms/step - loss: 4.7706 - categorical_accuracy: 0.2172\n",
      "Epoch 15/500\n",
      "43/43 [==============================] - 26s 605ms/step - loss: 4.4533 - categorical_accuracy: 0.2515\n",
      "Epoch 16/500\n",
      "43/43 [==============================] - 26s 599ms/step - loss: 4.2029 - categorical_accuracy: 0.2768\n",
      "Epoch 17/500\n",
      "43/43 [==============================] - 26s 596ms/step - loss: 3.9606 - categorical_accuracy: 0.3023\n",
      "Epoch 18/500\n",
      "43/43 [==============================] - 26s 596ms/step - loss: 3.7789 - categorical_accuracy: 0.3211\n",
      "Epoch 19/500\n",
      "43/43 [==============================] - 26s 599ms/step - loss: 3.5817 - categorical_accuracy: 0.3444\n",
      "Epoch 20/500\n",
      "43/43 [==============================] - 26s 603ms/step - loss: 3.4058 - categorical_accuracy: 0.3658\n",
      "Epoch 21/500\n",
      "43/43 [==============================] - 26s 596ms/step - loss: 3.2585 - categorical_accuracy: 0.3828\n",
      "Epoch 22/500\n",
      "43/43 [==============================] - 26s 593ms/step - loss: 3.1184 - categorical_accuracy: 0.4003\n",
      "Epoch 23/500\n",
      "43/43 [==============================] - 26s 597ms/step - loss: 3.0052 - categorical_accuracy: 0.4134\n",
      "Epoch 24/500\n",
      "43/43 [==============================] - 26s 601ms/step - loss: 2.8838 - categorical_accuracy: 0.4282\n",
      "Epoch 25/500\n",
      "43/43 [==============================] - 26s 597ms/step - loss: 2.7733 - categorical_accuracy: 0.4446\n",
      "Epoch 26/500\n",
      "43/43 [==============================] - 26s 596ms/step - loss: 2.6763 - categorical_accuracy: 0.4582\n",
      "Epoch 27/500\n",
      "43/43 [==============================] - 26s 598ms/step - loss: 2.5889 - categorical_accuracy: 0.4701\n",
      "Epoch 28/500\n",
      "43/43 [==============================] - 26s 597ms/step - loss: 2.5108 - categorical_accuracy: 0.4791\n",
      "Epoch 29/500\n",
      "43/43 [==============================] - 26s 596ms/step - loss: 2.4159 - categorical_accuracy: 0.4938\n",
      "Epoch 30/500\n",
      "43/43 [==============================] - 26s 599ms/step - loss: 2.3591 - categorical_accuracy: 0.5003\n",
      "Epoch 31/500\n",
      "43/43 [==============================] - 26s 596ms/step - loss: 2.2706 - categorical_accuracy: 0.5162\n",
      "Epoch 32/500\n",
      "43/43 [==============================] - 26s 600ms/step - loss: 2.2352 - categorical_accuracy: 0.5192\n",
      "Epoch 33/500\n",
      "43/43 [==============================] - 26s 598ms/step - loss: 2.1503 - categorical_accuracy: 0.5342\n",
      "Epoch 34/500\n",
      "43/43 [==============================] - 26s 597ms/step - loss: 2.0961 - categorical_accuracy: 0.5418\n",
      "Epoch 35/500\n",
      "43/43 [==============================] - 26s 601ms/step - loss: 2.0467 - categorical_accuracy: 0.5482\n",
      "Epoch 36/500\n",
      "43/43 [==============================] - 26s 612ms/step - loss: 1.9994 - categorical_accuracy: 0.5569\n",
      "Epoch 37/500\n",
      "43/43 [==============================] - 26s 604ms/step - loss: 1.9565 - categorical_accuracy: 0.5634\n",
      "Epoch 38/500\n",
      "43/43 [==============================] - 26s 602ms/step - loss: 1.9105 - categorical_accuracy: 0.5720\n",
      "Epoch 39/500\n",
      "43/43 [==============================] - 26s 600ms/step - loss: 1.8667 - categorical_accuracy: 0.5774\n",
      "Epoch 40/500\n",
      "43/43 [==============================] - 26s 598ms/step - loss: 1.8261 - categorical_accuracy: 0.5844\n",
      "Epoch 41/500\n",
      "43/43 [==============================] - 26s 596ms/step - loss: 1.8003 - categorical_accuracy: 0.5892\n",
      "Epoch 42/500\n",
      "43/43 [==============================] - 25s 592ms/step - loss: 1.7613 - categorical_accuracy: 0.5960\n",
      "Epoch 43/500\n",
      "43/43 [==============================] - 25s 593ms/step - loss: 1.7270 - categorical_accuracy: 0.6030\n",
      "Epoch 44/500\n",
      "43/43 [==============================] - 26s 595ms/step - loss: 1.6944 - categorical_accuracy: 0.6071\n",
      "Epoch 45/500\n",
      "43/43 [==============================] - 25s 591ms/step - loss: 1.6551 - categorical_accuracy: 0.6153\n",
      "Epoch 46/500\n",
      "43/43 [==============================] - 26s 593ms/step - loss: 1.6341 - categorical_accuracy: 0.6178\n",
      "Epoch 47/500\n",
      "43/43 [==============================] - 25s 593ms/step - loss: 1.6245 - categorical_accuracy: 0.6203\n",
      "Epoch 48/500\n",
      "43/43 [==============================] - 26s 593ms/step - loss: 1.5827 - categorical_accuracy: 0.6263\n",
      "Epoch 49/500\n",
      "43/43 [==============================] - 25s 593ms/step - loss: 1.5616 - categorical_accuracy: 0.6304\n",
      "Epoch 50/500\n",
      "43/43 [==============================] - 26s 594ms/step - loss: 1.5291 - categorical_accuracy: 0.6358\n",
      "Epoch 51/500\n",
      "43/43 [==============================] - 26s 595ms/step - loss: 1.5096 - categorical_accuracy: 0.6410\n",
      "Epoch 52/500\n",
      "43/43 [==============================] - 26s 594ms/step - loss: 1.4949 - categorical_accuracy: 0.6407\n",
      "Epoch 53/500\n",
      "43/43 [==============================] - 26s 594ms/step - loss: 1.4689 - categorical_accuracy: 0.6473\n",
      "Epoch 54/500\n",
      "43/43 [==============================] - 25s 593ms/step - loss: 1.4527 - categorical_accuracy: 0.6504\n",
      "Epoch 55/500\n",
      "43/43 [==============================] - 26s 594ms/step - loss: 1.4459 - categorical_accuracy: 0.6515\n",
      "Epoch 56/500\n",
      "43/43 [==============================] - 26s 598ms/step - loss: 1.3981 - categorical_accuracy: 0.6591\n",
      "Epoch 57/500\n",
      "43/43 [==============================] - 26s 596ms/step - loss: 1.3943 - categorical_accuracy: 0.6610\n",
      "Epoch 58/500\n",
      "43/43 [==============================] - 26s 595ms/step - loss: 1.3521 - categorical_accuracy: 0.6700\n",
      "Epoch 59/500\n",
      "43/43 [==============================] - 26s 596ms/step - loss: 1.3480 - categorical_accuracy: 0.6702\n",
      "Epoch 60/500\n",
      "43/43 [==============================] - 26s 598ms/step - loss: 1.3312 - categorical_accuracy: 0.6739\n",
      "Epoch 61/500\n",
      "43/43 [==============================] - 26s 594ms/step - loss: 1.3245 - categorical_accuracy: 0.6755\n",
      "Epoch 62/500\n",
      "43/43 [==============================] - 26s 597ms/step - loss: 1.3270 - categorical_accuracy: 0.6716\n",
      "Epoch 63/500\n",
      "43/43 [==============================] - 26s 594ms/step - loss: 1.3022 - categorical_accuracy: 0.6774\n",
      "Epoch 64/500\n",
      "43/43 [==============================] - 26s 597ms/step - loss: 1.2786 - categorical_accuracy: 0.6836\n",
      "Epoch 65/500\n",
      "43/43 [==============================] - 26s 596ms/step - loss: 1.2636 - categorical_accuracy: 0.6861\n",
      "Epoch 66/500\n",
      "43/43 [==============================] - 26s 602ms/step - loss: 1.2353 - categorical_accuracy: 0.6914\n",
      "Epoch 67/500\n",
      "43/43 [==============================] - 26s 602ms/step - loss: 1.2215 - categorical_accuracy: 0.6937\n",
      "Epoch 68/500\n",
      "43/43 [==============================] - 26s 604ms/step - loss: 1.1976 - categorical_accuracy: 0.7013\n",
      "Epoch 69/500\n",
      "43/43 [==============================] - 25s 592ms/step - loss: 1.1979 - categorical_accuracy: 0.6984\n",
      "Epoch 70/500\n",
      "43/43 [==============================] - 25s 588ms/step - loss: 1.1858 - categorical_accuracy: 0.7028\n",
      "Epoch 71/500\n",
      "43/43 [==============================] - 25s 589ms/step - loss: 1.1731 - categorical_accuracy: 0.7037\n",
      "Epoch 72/500\n",
      "43/43 [==============================] - 26s 597ms/step - loss: 1.1537 - categorical_accuracy: 0.7072\n",
      "Epoch 73/500\n",
      "43/43 [==============================] - 26s 600ms/step - loss: 1.1413 - categorical_accuracy: 0.7111\n",
      "Epoch 74/500\n",
      "43/43 [==============================] - 26s 598ms/step - loss: 1.1349 - categorical_accuracy: 0.7122\n",
      "Epoch 75/500\n",
      "43/43 [==============================] - 26s 599ms/step - loss: 1.1196 - categorical_accuracy: 0.7153\n",
      "Epoch 76/500\n",
      "43/43 [==============================] - 26s 599ms/step - loss: 1.1087 - categorical_accuracy: 0.7181\n",
      "Epoch 77/500\n",
      "43/43 [==============================] - 26s 598ms/step - loss: 1.0971 - categorical_accuracy: 0.7193\n",
      "Epoch 78/500\n",
      "43/43 [==============================] - 26s 609ms/step - loss: 1.0903 - categorical_accuracy: 0.7216\n",
      "Epoch 79/500\n",
      "43/43 [==============================] - 26s 608ms/step - loss: 1.0846 - categorical_accuracy: 0.7210\n",
      "Epoch 80/500\n",
      "43/43 [==============================] - 26s 607ms/step - loss: 1.0641 - categorical_accuracy: 0.7261\n",
      "Epoch 81/500\n",
      "43/43 [==============================] - 26s 612ms/step - loss: 1.0528 - categorical_accuracy: 0.7297\n",
      "Epoch 82/500\n",
      "43/43 [==============================] - 26s 601ms/step - loss: 1.0386 - categorical_accuracy: 0.7308\n",
      "Epoch 83/500\n",
      "43/43 [==============================] - 26s 611ms/step - loss: 1.0413 - categorical_accuracy: 0.7305\n",
      "Epoch 84/500\n",
      "43/43 [==============================] - 25s 584ms/step - loss: 1.0307 - categorical_accuracy: 0.7344\n",
      "Epoch 85/500\n",
      "43/43 [==============================] - 25s 580ms/step - loss: 1.0111 - categorical_accuracy: 0.7369\n",
      "Epoch 86/500\n",
      "43/43 [==============================] - 25s 584ms/step - loss: 0.9976 - categorical_accuracy: 0.7388\n",
      "Epoch 87/500\n",
      "43/43 [==============================] - 25s 585ms/step - loss: 0.9908 - categorical_accuracy: 0.7413\n",
      "Epoch 88/500\n",
      "43/43 [==============================] - 25s 584ms/step - loss: 0.9723 - categorical_accuracy: 0.7456\n",
      "Epoch 89/500\n",
      "43/43 [==============================] - 25s 588ms/step - loss: 0.9651 - categorical_accuracy: 0.7478\n",
      "Epoch 90/500\n",
      "43/43 [==============================] - 25s 588ms/step - loss: 0.9660 - categorical_accuracy: 0.7476\n",
      "Epoch 91/500\n",
      "43/43 [==============================] - 25s 587ms/step - loss: 0.9493 - categorical_accuracy: 0.7524\n",
      "Epoch 92/500\n",
      "43/43 [==============================] - 25s 588ms/step - loss: 0.9353 - categorical_accuracy: 0.7530\n",
      "Epoch 93/500\n",
      "43/43 [==============================] - 25s 586ms/step - loss: 0.9456 - categorical_accuracy: 0.7501\n",
      "Epoch 94/500\n",
      "43/43 [==============================] - 25s 581ms/step - loss: 0.9278 - categorical_accuracy: 0.7542\n",
      "Epoch 95/500\n",
      "43/43 [==============================] - 25s 586ms/step - loss: 0.9097 - categorical_accuracy: 0.7588\n",
      "Epoch 96/500\n",
      "43/43 [==============================] - 25s 588ms/step - loss: 0.9022 - categorical_accuracy: 0.7615\n",
      "Epoch 97/500\n",
      "43/43 [==============================] - 25s 583ms/step - loss: 0.8982 - categorical_accuracy: 0.7611\n",
      "Epoch 98/500\n",
      "43/43 [==============================] - 25s 586ms/step - loss: 0.9021 - categorical_accuracy: 0.7594\n",
      "Epoch 99/500\n",
      "43/43 [==============================] - 25s 587ms/step - loss: 0.8772 - categorical_accuracy: 0.7679\n",
      "Epoch 100/500\n",
      "43/43 [==============================] - 25s 585ms/step - loss: 0.8659 - categorical_accuracy: 0.7685\n",
      "Epoch 101/500\n",
      "43/43 [==============================] - 25s 588ms/step - loss: 0.8520 - categorical_accuracy: 0.7729\n",
      "Epoch 102/500\n",
      "43/43 [==============================] - 26s 600ms/step - loss: 0.8507 - categorical_accuracy: 0.7724\n",
      "Epoch 103/500\n",
      "43/43 [==============================] - 26s 601ms/step - loss: 0.8428 - categorical_accuracy: 0.7733\n",
      "Epoch 104/500\n",
      "43/43 [==============================] - 25s 581ms/step - loss: 0.8394 - categorical_accuracy: 0.7747\n",
      "Epoch 105/500\n",
      "43/43 [==============================] - 25s 586ms/step - loss: 0.8355 - categorical_accuracy: 0.7750\n",
      "Epoch 106/500\n",
      "43/43 [==============================] - 25s 591ms/step - loss: 0.8243 - categorical_accuracy: 0.7780\n",
      "Epoch 107/500\n",
      "43/43 [==============================] - 25s 589ms/step - loss: 0.8217 - categorical_accuracy: 0.7791\n",
      "Epoch 108/500\n",
      "43/43 [==============================] - 26s 606ms/step - loss: 0.8214 - categorical_accuracy: 0.7782\n",
      "Epoch 109/500\n",
      "43/43 [==============================] - 26s 609ms/step - loss: 0.7972 - categorical_accuracy: 0.7846\n",
      "Epoch 110/500\n",
      "43/43 [==============================] - 26s 603ms/step - loss: 0.7962 - categorical_accuracy: 0.7853\n",
      "Epoch 111/500\n",
      "43/43 [==============================] - 26s 601ms/step - loss: 0.7973 - categorical_accuracy: 0.7836\n",
      "Epoch 112/500\n",
      "43/43 [==============================] - 25s 583ms/step - loss: 0.7723 - categorical_accuracy: 0.7916\n",
      "Epoch 113/500\n",
      "43/43 [==============================] - 25s 585ms/step - loss: 0.7551 - categorical_accuracy: 0.7954\n",
      "Epoch 114/500\n",
      "43/43 [==============================] - 27s 619ms/step - loss: 0.7776 - categorical_accuracy: 0.7878\n",
      "Epoch 115/500\n",
      "43/43 [==============================] - 27s 619ms/step - loss: 0.7602 - categorical_accuracy: 0.7938\n",
      "Epoch 116/500\n",
      "43/43 [==============================] - 27s 619ms/step - loss: 0.7426 - categorical_accuracy: 0.7965\n",
      "Epoch 117/500\n",
      "43/43 [==============================] - 27s 616ms/step - loss: 0.7557 - categorical_accuracy: 0.7934\n",
      "Epoch 118/500\n",
      "43/43 [==============================] - 27s 622ms/step - loss: 0.7283 - categorical_accuracy: 0.8018\n",
      "Epoch 119/500\n",
      "43/43 [==============================] - 27s 630ms/step - loss: 0.7381 - categorical_accuracy: 0.7979\n",
      "Epoch 120/500\n",
      "43/43 [==============================] - 27s 630ms/step - loss: 0.7215 - categorical_accuracy: 0.8023\n",
      "Epoch 121/500\n",
      "43/43 [==============================] - 26s 616ms/step - loss: 0.7210 - categorical_accuracy: 0.8030\n",
      "Epoch 122/500\n",
      "43/43 [==============================] - 26s 616ms/step - loss: 0.7063 - categorical_accuracy: 0.8069\n",
      "Epoch 123/500\n",
      "43/43 [==============================] - 27s 627ms/step - loss: 0.7064 - categorical_accuracy: 0.8055\n",
      "Epoch 124/500\n",
      "43/43 [==============================] - 27s 628ms/step - loss: 0.6984 - categorical_accuracy: 0.8073\n",
      "Epoch 125/500\n",
      "43/43 [==============================] - 27s 625ms/step - loss: 0.6877 - categorical_accuracy: 0.8122\n",
      "Epoch 126/500\n",
      "43/43 [==============================] - 27s 625ms/step - loss: 0.6820 - categorical_accuracy: 0.8143\n",
      "Epoch 127/500\n",
      "43/43 [==============================] - 27s 621ms/step - loss: 0.6772 - categorical_accuracy: 0.8146\n",
      "Epoch 128/500\n",
      "43/43 [==============================] - 27s 635ms/step - loss: 0.6772 - categorical_accuracy: 0.8139\n",
      "Epoch 129/500\n",
      "43/43 [==============================] - 27s 624ms/step - loss: 0.6712 - categorical_accuracy: 0.8152\n",
      "Epoch 130/500\n",
      "43/43 [==============================] - 27s 634ms/step - loss: 0.6557 - categorical_accuracy: 0.8200\n",
      "Epoch 131/500\n",
      "43/43 [==============================] - 27s 625ms/step - loss: 0.6515 - categorical_accuracy: 0.8212\n",
      "Epoch 132/500\n",
      "43/43 [==============================] - 27s 626ms/step - loss: 0.6464 - categorical_accuracy: 0.8216\n",
      "Epoch 133/500\n",
      "43/43 [==============================] - 27s 634ms/step - loss: 0.6494 - categorical_accuracy: 0.8192\n",
      "Epoch 134/500\n",
      "43/43 [==============================] - 26s 612ms/step - loss: 0.6433 - categorical_accuracy: 0.8208\n",
      "Epoch 135/500\n",
      "43/43 [==============================] - 25s 582ms/step - loss: 0.6363 - categorical_accuracy: 0.8249\n",
      "Epoch 136/500\n",
      "43/43 [==============================] - 26s 608ms/step - loss: 0.6339 - categorical_accuracy: 0.8240\n",
      "Epoch 137/500\n",
      "43/43 [==============================] - 25s 591ms/step - loss: 0.6352 - categorical_accuracy: 0.8231\n",
      "Epoch 138/500\n",
      "43/43 [==============================] - 25s 589ms/step - loss: 0.6122 - categorical_accuracy: 0.8308\n",
      "Epoch 139/500\n",
      "43/43 [==============================] - 25s 591ms/step - loss: 0.6025 - categorical_accuracy: 0.8315\n",
      "Epoch 140/500\n",
      "43/43 [==============================] - 25s 587ms/step - loss: 0.6129 - categorical_accuracy: 0.8296\n",
      "Epoch 141/500\n",
      "43/43 [==============================] - 26s 594ms/step - loss: 0.6048 - categorical_accuracy: 0.8311\n",
      "Epoch 142/500\n",
      "43/43 [==============================] - 25s 585ms/step - loss: 0.5911 - categorical_accuracy: 0.8374\n"
     ]
    },
    {
     "name": "stdout",
     "output_type": "stream",
     "text": [
      "Epoch 143/500\n",
      "43/43 [==============================] - 26s 592ms/step - loss: 0.5836 - categorical_accuracy: 0.8371\n",
      "Epoch 144/500\n",
      "43/43 [==============================] - 25s 588ms/step - loss: 0.5776 - categorical_accuracy: 0.8381\n",
      "Epoch 145/500\n",
      "43/43 [==============================] - 25s 587ms/step - loss: 0.5646 - categorical_accuracy: 0.8435\n",
      "Epoch 146/500\n",
      "43/43 [==============================] - 25s 584ms/step - loss: 0.5722 - categorical_accuracy: 0.8425\n",
      "Epoch 147/500\n",
      "43/43 [==============================] - 26s 594ms/step - loss: 0.5630 - categorical_accuracy: 0.8432\n",
      "Epoch 148/500\n",
      "43/43 [==============================] - 26s 597ms/step - loss: 0.5561 - categorical_accuracy: 0.8449\n",
      "Epoch 149/500\n",
      "43/43 [==============================] - 25s 591ms/step - loss: 0.5427 - categorical_accuracy: 0.8502\n",
      "Epoch 150/500\n",
      "43/43 [==============================] - 26s 600ms/step - loss: 0.5540 - categorical_accuracy: 0.8452\n",
      "Epoch 151/500\n",
      "43/43 [==============================] - 26s 597ms/step - loss: 0.5414 - categorical_accuracy: 0.8482\n",
      "Epoch 152/500\n",
      "43/43 [==============================] - 26s 595ms/step - loss: 0.5239 - categorical_accuracy: 0.8556\n",
      "Epoch 153/500\n",
      "43/43 [==============================] - 26s 593ms/step - loss: 0.5482 - categorical_accuracy: 0.8454\n",
      "Epoch 154/500\n",
      "43/43 [==============================] - 26s 594ms/step - loss: 0.5305 - categorical_accuracy: 0.8524\n",
      "Epoch 155/500\n",
      "43/43 [==============================] - 26s 597ms/step - loss: 0.5096 - categorical_accuracy: 0.8588\n",
      "Epoch 156/500\n",
      "43/43 [==============================] - 26s 599ms/step - loss: 0.5152 - categorical_accuracy: 0.8557\n",
      "Epoch 157/500\n",
      "43/43 [==============================] - 26s 603ms/step - loss: 0.5089 - categorical_accuracy: 0.8583\n",
      "Epoch 158/500\n",
      "43/43 [==============================] - 25s 589ms/step - loss: 0.5087 - categorical_accuracy: 0.8568\n",
      "Epoch 159/500\n",
      "43/43 [==============================] - 25s 591ms/step - loss: 0.4836 - categorical_accuracy: 0.8654\n",
      "Epoch 160/500\n",
      "43/43 [==============================] - 26s 596ms/step - loss: 0.4944 - categorical_accuracy: 0.8623\n",
      "Epoch 161/500\n",
      "43/43 [==============================] - 26s 598ms/step - loss: 0.4908 - categorical_accuracy: 0.8648\n",
      "Epoch 162/500\n",
      "43/43 [==============================] - 25s 590ms/step - loss: 0.4892 - categorical_accuracy: 0.8637\n",
      "Epoch 163/500\n",
      "43/43 [==============================] - 26s 600ms/step - loss: 0.4760 - categorical_accuracy: 0.8687\n",
      "Epoch 164/500\n",
      "43/43 [==============================] - 26s 608ms/step - loss: 0.4697 - categorical_accuracy: 0.8685\n",
      "Epoch 165/500\n",
      "43/43 [==============================] - 26s 602ms/step - loss: 0.4732 - categorical_accuracy: 0.8672\n",
      "Epoch 166/500\n",
      "43/43 [==============================] - 26s 601ms/step - loss: 0.4760 - categorical_accuracy: 0.8662\n",
      "Epoch 167/500\n",
      "43/43 [==============================] - 26s 593ms/step - loss: 0.4741 - categorical_accuracy: 0.8674\n",
      "Epoch 168/500\n",
      "43/43 [==============================] - 26s 597ms/step - loss: 0.4558 - categorical_accuracy: 0.8721\n",
      "Epoch 169/500\n",
      "43/43 [==============================] - 26s 602ms/step - loss: 0.4547 - categorical_accuracy: 0.8724\n",
      "Epoch 170/500\n",
      "43/43 [==============================] - 26s 592ms/step - loss: 0.4554 - categorical_accuracy: 0.8728\n",
      "Epoch 171/500\n",
      "43/43 [==============================] - 25s 593ms/step - loss: 0.4538 - categorical_accuracy: 0.8736\n",
      "Epoch 172/500\n",
      "43/43 [==============================] - 26s 600ms/step - loss: 0.4363 - categorical_accuracy: 0.8787\n",
      "Epoch 173/500\n",
      "43/43 [==============================] - 26s 603ms/step - loss: 0.4179 - categorical_accuracy: 0.8847\n",
      "Epoch 174/500\n",
      "43/43 [==============================] - 25s 588ms/step - loss: 0.4274 - categorical_accuracy: 0.8800\n",
      "Epoch 175/500\n",
      "43/43 [==============================] - 25s 587ms/step - loss: 0.4422 - categorical_accuracy: 0.8750\n",
      "Epoch 176/500\n",
      "43/43 [==============================] - 25s 587ms/step - loss: 0.4284 - categorical_accuracy: 0.8812\n",
      "Epoch 177/500\n",
      "43/43 [==============================] - 25s 590ms/step - loss: 0.4188 - categorical_accuracy: 0.8844\n",
      "Epoch 178/500\n",
      "43/43 [==============================] - 26s 600ms/step - loss: 0.3965 - categorical_accuracy: 0.8914\n",
      "Epoch 179/500\n",
      "43/43 [==============================] - 26s 598ms/step - loss: 0.4006 - categorical_accuracy: 0.8885\n",
      "Epoch 180/500\n",
      "43/43 [==============================] - 26s 604ms/step - loss: 0.4075 - categorical_accuracy: 0.8865\n",
      "Epoch 181/500\n",
      "43/43 [==============================] - 26s 607ms/step - loss: 0.4259 - categorical_accuracy: 0.8803\n",
      "Epoch 182/500\n",
      "43/43 [==============================] - 26s 603ms/step - loss: 0.4113 - categorical_accuracy: 0.8836\n",
      "Epoch 183/500\n",
      "43/43 [==============================] - 26s 601ms/step - loss: 0.3949 - categorical_accuracy: 0.8896\n",
      "Epoch 184/500\n",
      "43/43 [==============================] - 26s 596ms/step - loss: 0.4090 - categorical_accuracy: 0.8849\n",
      "Epoch 185/500\n",
      "43/43 [==============================] - 25s 590ms/step - loss: 0.3896 - categorical_accuracy: 0.8893\n",
      "Epoch 186/500\n",
      "43/43 [==============================] - 25s 588ms/step - loss: 0.4220 - categorical_accuracy: 0.8792\n",
      "Epoch 187/500\n",
      "43/43 [==============================] - 25s 592ms/step - loss: 0.3963 - categorical_accuracy: 0.8883\n",
      "Epoch 188/500\n",
      "43/43 [==============================] - 26s 600ms/step - loss: 0.3864 - categorical_accuracy: 0.8923\n",
      "Epoch 189/500\n",
      "43/43 [==============================] - 26s 594ms/step - loss: 0.3741 - categorical_accuracy: 0.8960\n",
      "Epoch 190/500\n",
      "43/43 [==============================] - 26s 604ms/step - loss: 0.3662 - categorical_accuracy: 0.8989\n",
      "Epoch 191/500\n",
      "43/43 [==============================] - 26s 597ms/step - loss: 0.3650 - categorical_accuracy: 0.9005\n",
      "Epoch 192/500\n",
      "43/43 [==============================] - 26s 598ms/step - loss: 0.3728 - categorical_accuracy: 0.8960\n",
      "Epoch 193/500\n",
      "43/43 [==============================] - 26s 598ms/step - loss: 0.3784 - categorical_accuracy: 0.8935\n",
      "Epoch 194/500\n",
      "43/43 [==============================] - 25s 591ms/step - loss: 0.3524 - categorical_accuracy: 0.9033\n",
      "Epoch 195/500\n",
      "43/43 [==============================] - 25s 591ms/step - loss: 0.3490 - categorical_accuracy: 0.9033\n",
      "Epoch 196/500\n",
      "43/43 [==============================] - 25s 591ms/step - loss: 0.3378 - categorical_accuracy: 0.9090\n",
      "Epoch 197/500\n",
      "43/43 [==============================] - 25s 586ms/step - loss: 0.3384 - categorical_accuracy: 0.9070\n",
      "Epoch 198/500\n",
      "43/43 [==============================] - 25s 591ms/step - loss: 0.3306 - categorical_accuracy: 0.9101\n",
      "Epoch 199/500\n",
      "43/43 [==============================] - 26s 596ms/step - loss: 0.3180 - categorical_accuracy: 0.9139\n",
      "Epoch 200/500\n",
      "43/43 [==============================] - 25s 588ms/step - loss: 0.3245 - categorical_accuracy: 0.9098\n",
      "Epoch 201/500\n",
      "43/43 [==============================] - 25s 588ms/step - loss: 0.3514 - categorical_accuracy: 0.8999\n",
      "Epoch 202/500\n",
      "43/43 [==============================] - 25s 585ms/step - loss: 0.3267 - categorical_accuracy: 0.9102\n",
      "Epoch 203/500\n",
      "43/43 [==============================] - 25s 588ms/step - loss: 0.3168 - categorical_accuracy: 0.9136\n",
      "Epoch 204/500\n",
      "43/43 [==============================] - 25s 589ms/step - loss: 0.3166 - categorical_accuracy: 0.9128\n",
      "Epoch 205/500\n",
      "43/43 [==============================] - 25s 587ms/step - loss: 0.3064 - categorical_accuracy: 0.9159\n",
      "Epoch 206/500\n",
      "43/43 [==============================] - 25s 592ms/step - loss: 0.3064 - categorical_accuracy: 0.9153\n",
      "Epoch 207/500\n",
      "43/43 [==============================] - 26s 595ms/step - loss: 0.2923 - categorical_accuracy: 0.9218\n",
      "Epoch 208/500\n",
      "43/43 [==============================] - 25s 586ms/step - loss: 0.2917 - categorical_accuracy: 0.9209\n",
      "Epoch 209/500\n",
      "43/43 [==============================] - 25s 581ms/step - loss: 0.2944 - categorical_accuracy: 0.9195\n",
      "Epoch 210/500\n",
      "43/43 [==============================] - 25s 588ms/step - loss: 0.2861 - categorical_accuracy: 0.9227\n",
      "Epoch 211/500\n",
      "43/43 [==============================] - 26s 597ms/step - loss: 0.2891 - categorical_accuracy: 0.9211\n",
      "Epoch 212/500\n",
      "43/43 [==============================] - 25s 591ms/step - loss: 0.2941 - categorical_accuracy: 0.9192\n",
      "Epoch 213/500\n",
      "43/43 [==============================] - 26s 594ms/step - loss: 0.2908 - categorical_accuracy: 0.9198\n",
      "Epoch 214/500\n",
      "43/43 [==============================] - 25s 585ms/step - loss: 0.3208 - categorical_accuracy: 0.9094\n",
      "Epoch 215/500\n",
      "43/43 [==============================] - 25s 590ms/step - loss: 0.2845 - categorical_accuracy: 0.9223\n",
      "Epoch 216/500\n",
      "43/43 [==============================] - 26s 603ms/step - loss: 0.2945 - categorical_accuracy: 0.9181\n",
      "Epoch 217/500\n",
      "43/43 [==============================] - 26s 610ms/step - loss: 0.2954 - categorical_accuracy: 0.9194\n",
      "Epoch 218/500\n",
      "43/43 [==============================] - 26s 601ms/step - loss: 0.2745 - categorical_accuracy: 0.9245\n",
      "Epoch 219/500\n",
      "43/43 [==============================] - 26s 594ms/step - loss: 0.2720 - categorical_accuracy: 0.9265\n",
      "Epoch 220/500\n",
      "43/43 [==============================] - 25s 591ms/step - loss: 0.2631 - categorical_accuracy: 0.9288\n",
      "Epoch 221/500\n",
      "43/43 [==============================] - 25s 588ms/step - loss: 0.2874 - categorical_accuracy: 0.9215\n",
      "Epoch 222/500\n",
      "43/43 [==============================] - 25s 581ms/step - loss: 0.2737 - categorical_accuracy: 0.9251\n",
      "Epoch 223/500\n",
      "43/43 [==============================] - 25s 586ms/step - loss: 0.2622 - categorical_accuracy: 0.9273\n",
      "Epoch 224/500\n",
      "43/43 [==============================] - 25s 592ms/step - loss: 0.2623 - categorical_accuracy: 0.9282\n",
      "Epoch 225/500\n",
      "43/43 [==============================] - 26s 600ms/step - loss: 0.2689 - categorical_accuracy: 0.9260\n",
      "Epoch 226/500\n",
      "43/43 [==============================] - 26s 597ms/step - loss: 0.2534 - categorical_accuracy: 0.9310\n",
      "Epoch 227/500\n",
      "43/43 [==============================] - 26s 598ms/step - loss: 0.2770 - categorical_accuracy: 0.9219\n",
      "Epoch 228/500\n",
      "43/43 [==============================] - 25s 589ms/step - loss: 0.2829 - categorical_accuracy: 0.9187\n",
      "Epoch 229/500\n",
      "43/43 [==============================] - 25s 592ms/step - loss: 0.2581 - categorical_accuracy: 0.9289\n",
      "Epoch 230/500\n",
      "43/43 [==============================] - 26s 594ms/step - loss: 0.2490 - categorical_accuracy: 0.9316\n",
      "Epoch 231/500\n",
      "43/43 [==============================] - 25s 591ms/step - loss: 0.2379 - categorical_accuracy: 0.9362\n",
      "Epoch 232/500\n",
      "43/43 [==============================] - 25s 593ms/step - loss: 0.2287 - categorical_accuracy: 0.9404\n",
      "Epoch 233/500\n",
      "43/43 [==============================] - 26s 598ms/step - loss: 0.2378 - categorical_accuracy: 0.9346\n",
      "Epoch 234/500\n",
      "43/43 [==============================] - 25s 592ms/step - loss: 0.2374 - categorical_accuracy: 0.9363\n",
      "Epoch 235/500\n",
      "43/43 [==============================] - 26s 600ms/step - loss: 0.2281 - categorical_accuracy: 0.9393\n",
      "Epoch 236/500\n",
      "43/43 [==============================] - 26s 603ms/step - loss: 0.2171 - categorical_accuracy: 0.9438\n",
      "Epoch 237/500\n",
      "43/43 [==============================] - 26s 601ms/step - loss: 0.2151 - categorical_accuracy: 0.9444\n",
      "Epoch 238/500\n",
      "43/43 [==============================] - 26s 606ms/step - loss: 0.2047 - categorical_accuracy: 0.9479\n",
      "Epoch 239/500\n",
      "43/43 [==============================] - 26s 596ms/step - loss: 0.1990 - categorical_accuracy: 0.9498\n",
      "Epoch 240/500\n",
      "43/43 [==============================] - 26s 594ms/step - loss: 0.1981 - categorical_accuracy: 0.9496\n",
      "Epoch 241/500\n",
      "43/43 [==============================] - 25s 588ms/step - loss: 0.2058 - categorical_accuracy: 0.9466\n",
      "Epoch 242/500\n",
      "43/43 [==============================] - 26s 595ms/step - loss: 0.2054 - categorical_accuracy: 0.9457\n",
      "Epoch 243/500\n",
      "43/43 [==============================] - 26s 595ms/step - loss: 0.2187 - categorical_accuracy: 0.9415\n",
      "Epoch 244/500\n",
      "43/43 [==============================] - 26s 600ms/step - loss: 0.2366 - categorical_accuracy: 0.9339\n",
      "Epoch 245/500\n",
      "43/43 [==============================] - 26s 604ms/step - loss: 0.2306 - categorical_accuracy: 0.9372\n",
      "Epoch 246/500\n",
      "43/43 [==============================] - 25s 589ms/step - loss: 0.2249 - categorical_accuracy: 0.9387\n",
      "Epoch 247/500\n",
      "43/43 [==============================] - 26s 602ms/step - loss: 0.2217 - categorical_accuracy: 0.9409\n",
      "Epoch 248/500\n",
      "43/43 [==============================] - 26s 600ms/step - loss: 0.2235 - categorical_accuracy: 0.9394\n",
      "Epoch 249/500\n",
      "43/43 [==============================] - 26s 592ms/step - loss: 0.2397 - categorical_accuracy: 0.9322\n",
      "Epoch 250/500\n",
      "43/43 [==============================] - 26s 594ms/step - loss: 0.2177 - categorical_accuracy: 0.9414\n",
      "Epoch 251/500\n",
      "43/43 [==============================] - 26s 596ms/step - loss: 0.2024 - categorical_accuracy: 0.9462\n",
      "Epoch 252/500\n",
      "43/43 [==============================] - 26s 599ms/step - loss: 0.2001 - categorical_accuracy: 0.9469\n",
      "Epoch 253/500\n",
      "43/43 [==============================] - 25s 591ms/step - loss: 0.1975 - categorical_accuracy: 0.9490\n",
      "Epoch 254/500\n",
      "43/43 [==============================] - 26s 597ms/step - loss: 0.1927 - categorical_accuracy: 0.9512\n",
      "Accuracy reach over 0.95% terminating train process.\n"
     ]
    }
   ],
   "source": [
    "#categorical_accuracy\n",
    "cb = My_Callback(0.95)\n",
    "model.compile(loss='categorical_crossentropy', optimizer='adam', metrics=['categorical_accuracy'])\n",
    "history = model.fit(X, y, batch_size=4096, epochs=500, callbacks=[cb])"
   ]
  },
  {
   "cell_type": "markdown",
   "metadata": {},
   "source": [
    "## Evaluation "
   ]
  },
  {
   "cell_type": "code",
   "execution_count": 20,
   "metadata": {},
   "outputs": [
    {
     "name": "stdout",
     "output_type": "stream",
     "text": [
      "43/43 [==============================] - 22s 435ms/step - loss: 0.1404 - categorical_accuracy: 0.9665\n"
     ]
    },
    {
     "data": {
      "text/plain": [
       "[0.15542151033878326, 0.9619872570037842]"
      ]
     },
     "execution_count": 20,
     "metadata": {},
     "output_type": "execute_result"
    }
   ],
   "source": [
    "#model.save_weights(\"model/tr-lang-model.h5\")\n",
    "model.load_weights(\"model/tr-lang-model.h5\")\n",
    "model.compile(loss='categorical_crossentropy', optimizer='adam', metrics=['categorical_accuracy'])\n",
    "model.evaluate(X,y,batch_size = 4096)"
   ]
  },
  {
   "cell_type": "code",
   "execution_count": 27,
   "metadata": {},
   "outputs": [],
   "source": [
    "import matplotlib.pyplot as plt\n",
    "plt.style.use('ggplot')\n",
    "def plot_history(history):\n",
    "    acc = history.history['categorical_accuracy']\n",
    "    loss = history.history['loss']\n",
    "    x = range(1, len(acc) + 1)\n",
    "    \n",
    "    plt.figure(figsize=(12, 5))\n",
    "    plt.subplot(1, 2, 1)\n",
    "    plt.plot(x, acc, 'b', label='Training acc')\n",
    "    plt.title('Training  accuracy')\n",
    "    plt.legend()\n",
    "    plt.subplot(1, 2, 2)\n",
    "    plt.plot(x, loss, 'r', label='Training loss')\n",
    "    plt.title('Training loss')\n",
    "    plt.legend()"
   ]
  },
  {
   "cell_type": "code",
   "execution_count": 28,
   "metadata": {},
   "outputs": [
    {
     "data": {
      "image/png": "[encoded data removed]",
      "text/plain": [
       "<Figure size 864x360 with 2 Axes>"
      ]
     },
     "metadata": {},
     "output_type": "display_data"
    }
   ],
   "source": [
    "plot_history(history)"
   ]
  },
  {
   "cell_type": "markdown",
   "metadata": {},
   "source": [
    "To generate sequence basically get seed text and and consider 5 word from right side and ignore others, if its less than 5 padding(pre) from left side after that for each 5 word model predict 1 word. After prediction we feed 4 word from previous input and previously predicted word as 5th word and so on."
   ]
  },
  {
   "cell_type": "code",
   "execution_count": 29,
   "metadata": {},
   "outputs": [],
   "source": [
    "# for dynamic printing\n",
    "from IPython.display import display, clear_output\n",
    "# padding for fixed input size\n",
    "from keras.preprocessing.sequence import pad_sequences\n",
    "# generating sequence from language model\n",
    "def generate_sequence(tokenizer, max_output_seq_len, n_input_words, seed_text, model):\n",
    "    model_input = seed_text\n",
    "    \n",
    "    # generate given max amount of word\n",
    "    for _ in range(max_output_seq_len):\n",
    "        # tokenize input text\n",
    "        model_input_encoded = tokenizer.texts_to_sequences([model_input])[0]\n",
    "        # pre-padding for fixed length(n_input_words)\n",
    "        model_input_encoded = pad_sequences([model_input_encoded], maxlen=n_input_words, padding='pre')\n",
    "        # predict probabilties for each word in vocab.\n",
    "        prediction = model.predict(model_input_encoded)[0]\n",
    "        prediction = np.argmax(prediction)\n",
    "        # finding predicted word\n",
    "        predicted_word = list(tokenizer.word_index.keys())[prediction-1]\n",
    "        model_input = model_input + \" \" + predicted_word\n",
    "        display(model_input)\n",
    "        clear_output(wait=True)\n",
    "    return model_input"
   ]
  },
  {
   "cell_type": "code",
   "execution_count": 30,
   "metadata": {},
   "outputs": [],
   "source": [
    "# for dynamic printing\n",
    "from IPython.display import display, clear_output\n",
    "# padding for fixed input size\n",
    "from keras.preprocessing.sequence import pad_sequences\n",
    "# generating sequence from language model\n",
    "def generate_sequence_with_random_choice(tokenizer, max_output_seq_len, n_input_words, seed_text, model, acceptance_threshold):\n",
    "    model_input = seed_text\n",
    "    \n",
    "    # generate given max amount of word\n",
    "    for _ in range(max_output_seq_len):\n",
    "        # variable countermeasure if threshold too high for prediction\n",
    "        at = acceptance_threshold\n",
    "        # tokenize input text\n",
    "        model_input_encoded = tokenizer.texts_to_sequences([model_input])[0]\n",
    "        # pre-padding for fixed length(n_input_words)\n",
    "        model_input_encoded = pad_sequences([model_input_encoded], maxlen=n_input_words, padding='pre')\n",
    "        # predict probabilties for each word in vocab.\n",
    "        prediction = model.predict(model_input_encoded)\n",
    "        # countermeasure if threshold too high for prediction\n",
    "        if np.max(prediction) < acceptance_threshold:\n",
    "            at = np.max(prediction)\n",
    "        # take predicted words with probability higher than the threshold\n",
    "        prediction = prediction >= at\n",
    "        # taking index high prob. words(true values)\n",
    "        possible_words = np.where(prediction)[1]\n",
    "        # choosing one of possible word\n",
    "        choosen_index = possible_words[np.random.randint(0,len(possible_words))]\n",
    "        # getting correspanding key from word index\n",
    "        predicted_word = list(tokenizer.word_index.keys())[choosen_index-1]\n",
    "        model_input = model_input + \" \" + predicted_word\n",
    "        display(model_input)\n",
    "        clear_output(wait=True)\n",
    "        \n",
    "    return model_input"
   ]
  },
  {
   "cell_type": "code",
   "execution_count": 42,
   "metadata": {},
   "outputs": [
    {
     "data": {
      "text/plain": [
       "'Ne olursan o ’ hicabıdır , bizim bütün bunlar bizim ilk ne demek ey / maddî yolunda şirk olur ; gönülleri mı varsa var ; yoksa hiç'"
      ]
     },
     "execution_count": 42,
     "metadata": {},
     "output_type": "execute_result"
    }
   ],
   "source": [
    "generate_sequence(tokenizer, 25, n_word, \"Ne olursan\", model)"
   ]
  },
  {
   "cell_type": "code",
   "execution_count": 45,
   "metadata": {},
   "outputs": [
    {
     "data": {
      "text/plain": [
       "'Ne olursan o kötü bütün âlem ıssı , devletler , senin , hıyanet bize arap bile olması . - kötü şems , merhamet üzere yalnız benim ,'"
      ]
     },
     "execution_count": 45,
     "metadata": {},
     "output_type": "execute_result"
    }
   ],
   "source": [
    "generate_sequence_with_random_choice(tokenizer, 25, n_word, \"Ne olursan\", model,acceptance_threshold = 0.3)"
   ]
  },
  {
   "cell_type": "code",
   "execution_count": 46,
   "metadata": {},
   "outputs": [
    {
     "data": {
      "text/plain": [
       "'Sen nasıl rızka düşkün da bu hikâyelerden sahibi , soğuk bir iş , “ durursun . ” hepsi vardır , kuş , nefis iç bir can ! bir de vuslat ayranı yüce muhammed ’ ile selam imdada yetişti . dünyada iki hayırlı ekin , birbirine söz ancak bir varlık var , kuldur de aynı pek büyük ilimden de aynı kur ’ an ’ bir avuç yeter . kitaptan bir işte söyler . bu birisinin şeyler olmazsa yine onu . . . onun , öç alınarak selamlar ve esenlik . size en allah ’ a hamdolsun – hükmünce artık gökyüzü , ayrı az ile bir saray iki kıymetli yarattı ne meydana kalır , onu bir kişiyi verdiği açarlar ; elbette onlar , yüz bin şey üstün devleti göz bin huyları gel . hak teâlâ ’ in lütfudur . fasıl . dost suresi , : . bunların en yüce işlerle kaldı . ey eski er ,'"
      ]
     },
     "execution_count": 46,
     "metadata": {},
     "output_type": "execute_result"
    }
   ],
   "source": [
    "generate_sequence(tokenizer, 150, n_word, \"Sen nasıl rızka düşkün\", model)"
   ]
  },
  {
   "cell_type": "code",
   "execution_count": 47,
   "metadata": {},
   "outputs": [
    {
     "data": {
      "text/plain": [
       "'Sen nasıl rızka düşkün da bu hikâyelerden sahibi , soğuk bir iş , “ durursun . ” hepsi vardır , kuş , nefis iç bir can ! bir de vuslat ayranı yüce muhammed ’ ile selam imdada yetişti . dünyada iki hayırlı ekin , birbirine söz ancak bir varlık var , kuldur de aynı pek büyük ilimden de aynı kur ’ an ’ bir avuç yeter . kitaptan bir işte söyler . bu birisinin şeyler olmazsa yine onu . . . onun , öç alınarak selamlar ve esenlik . size en allah ’ a hamdolsun – hükmünce artık gökyüzü , ayrı az ile bir saray iki kıymetli yarattı ne meydana kalır , onu bir kişiyi verdiği açarlar ; elbette onlar , yüz bin şey üstün devleti göz bin huyları gel . hak teâlâ ’ in lütfudur . fasıl . dost suresi , : . bunların en yüce işlerle kaldı . ey eski er ,'"
      ]
     },
     "execution_count": 47,
     "metadata": {},
     "output_type": "execute_result"
    }
   ],
   "source": [
    "generate_sequence_with_random_choice(tokenizer, 150, n_word, \"Sen nasıl rızka düşkün\", model,acceptance_threshold = 0.5)"
   ]
  },
  {
   "cell_type": "code",
   "execution_count": 48,
   "metadata": {},
   "outputs": [
    {
     "data": {
      "text/plain": [
       "'Sahildeki kafka olan sâhib ’ in durağı olup - kader - i kadar mi penceredeki habib , ayı ayağa , ey gönül celâl ve ey lütuf yaratan . ” , kahır bütün bunlar . şimdi , güzeller sevgilinin geldi ; artık gümüş gibi meydana ve zaman yazı . sihir ’ nuh ehli'"
      ]
     },
     "execution_count": 48,
     "metadata": {},
     "output_type": "execute_result"
    }
   ],
   "source": [
    "generate_sequence(tokenizer, 50, n_word, \"Sahildeki kafka\", model)"
   ]
  },
  {
   "cell_type": "code",
   "execution_count": null,
   "metadata": {},
   "outputs": [],
   "source": []
  }
 ],
 "metadata": {
  "kernelspec": {
   "display_name": "Python 3",
   "language": "python",
   "name": "python3"
  },
  "language_info": {
   "codemirror_mode": {
    "name": "ipython",
    "version": 3
   },
   "file_extension": ".py",
   "mimetype": "text/x-python",
   "name": "python",
   "nbconvert_exporter": "python",
   "pygments_lexer": "ipython3",
   "version": "3.8.5"
  }
 },
 "nbformat": 4,
 "nbformat_minor": 4
}
